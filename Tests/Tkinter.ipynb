{
 "cells": [
  {
   "cell_type": "code",
   "id": "initial_id",
   "metadata": {
    "collapsed": true,
    "ExecuteTime": {
     "end_time": "2025-09-15T19:59:29.819853Z",
     "start_time": "2025-09-15T19:59:29.816398Z"
    }
   },
   "source": [
    "import tkinter as tk\n",
    "from tkinter import ttk\n",
    "from tkinter import Tk"
   ],
   "outputs": [],
   "execution_count": 14
  },
  {
   "metadata": {},
   "cell_type": "markdown",
   "source": "Import stuff",
   "id": "6e398aab3f8890f"
  },
  {
   "metadata": {
    "ExecuteTime": {
     "end_time": "2025-09-15T19:59:29.834642Z",
     "start_time": "2025-09-15T19:59:29.831562Z"
    }
   },
   "cell_type": "code",
   "source": [
    "class mainWindow(tk.Tk):\n",
    "    def __init__(self, root):\n",
    "        tk.Tk.__init__(self)\n",
    "        self.geometry(\"1920x1080\")\n",
    "        root.title(\"Tkinter\")\n",
    "        mainframe = ttk.Frame(self)\n",
    "        mainframe.grid(column=0, row=0, sticky=(tk.N, tk.S, tk.E, tk.W))\n",
    "        root.columnconfigure(0, weight=1)\n",
    "        root.rowconfigure(0, weight=1)"
   ],
   "id": "35f3edc8f8fe01a8",
   "outputs": [],
   "execution_count": 15
  },
  {
   "metadata": {},
   "cell_type": "markdown",
   "source": "Main",
   "id": "b990c93dc9484463"
  },
  {
   "metadata": {
    "ExecuteTime": {
     "end_time": "2025-09-15T20:01:57.995422Z",
     "start_time": "2025-09-15T19:59:29.847232Z"
    }
   },
   "cell_type": "code",
   "source": [
    "if __name__ == \"__main__\":\n",
    "    root = Tk()\n",
    "    mainWindow(root)\n",
    "    root.mainloop()"
   ],
   "id": "98cd10ad855c50ee",
   "outputs": [],
   "execution_count": 16
  }
 ],
 "metadata": {
  "kernelspec": {
   "display_name": "Python 3",
   "language": "python",
   "name": "python3"
  },
  "language_info": {
   "codemirror_mode": {
    "name": "ipython",
    "version": 2
   },
   "file_extension": ".py",
   "mimetype": "text/x-python",
   "name": "python",
   "nbconvert_exporter": "python",
   "pygments_lexer": "ipython2",
   "version": "2.7.6"
  }
 },
 "nbformat": 4,
 "nbformat_minor": 5
}
