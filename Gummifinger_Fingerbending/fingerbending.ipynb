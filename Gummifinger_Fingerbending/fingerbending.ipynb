{
 "cells": [
  {
   "cell_type": "markdown",
   "source": [
    "Get packages"
   ],
   "metadata": {
    "collapsed": false
   }
  },
  {
   "cell_type": "code",
   "execution_count": 28,
   "metadata": {
    "collapsed": true,
    "ExecuteTime": {
     "end_time": "2023-05-23T13:17:44.655733800Z",
     "start_time": "2023-05-23T13:17:44.629034300Z"
    }
   },
   "outputs": [],
   "source": [
    "import cv2 as cv\n",
    "from tkinter import Tk, Canvas, Button, filedialog, Image\n",
    "from PIL import ImageTk\n",
    "from pathlib import Path"
   ]
  },
  {
   "cell_type": "markdown",
   "source": [
    "Initialize variables"
   ],
   "metadata": {
    "collapsed": false
   }
  },
  {
   "cell_type": "code",
   "execution_count": 29,
   "outputs": [],
   "source": [
    "image = None"
   ],
   "metadata": {
    "collapsed": false,
    "ExecuteTime": {
     "end_time": "2023-05-23T13:17:44.665845200Z",
     "start_time": "2023-05-23T13:17:44.633560Z"
    }
   }
  },
  {
   "cell_type": "markdown",
   "source": [
    "Open the image with tkinter"
   ],
   "metadata": {
    "collapsed": false
   }
  },
  {
   "cell_type": "code",
   "execution_count": 30,
   "outputs": [],
   "source": [
    "def open_image():\n",
    "    # Open a file dialog to select the image file\n",
    "    image_path = filedialog.askopenfilename()\n",
    "    print(image_path)\n",
    "    #print(f'{image_path}',type(image_path))  # Print the image path for debugging\n",
    "    # Process the image and display the result on the canvas\n",
    "    processed_image = process_image(Path(image_path))  # Convert the image_path object to a string\n",
    "    canvas.create_image(0, 0, anchor='nw', image=processed_image)\n",
    "    return image\n",
    "# Create the main window\n",
    "root = Tk()"
   ],
   "metadata": {
    "collapsed": false,
    "ExecuteTime": {
     "end_time": "2023-05-23T13:17:44.730613Z",
     "start_time": "2023-05-23T13:17:44.640179900Z"
    }
   }
  },
  {
   "cell_type": "markdown",
   "source": [
    "Create Canvas and Buttons"
   ],
   "metadata": {
    "collapsed": false
   }
  },
  {
   "cell_type": "code",
   "execution_count": 31,
   "outputs": [],
   "source": [
    "# Create a canvas to display the image\n",
    "canvas = Canvas(root, width=400, height=400)\n",
    "canvas.pack()\n",
    "\n",
    "# Create a button to open the image file\n",
    "button = Button(root, text=\"Open Image\", command=open_image)\n",
    "button.pack()"
   ],
   "metadata": {
    "collapsed": false,
    "ExecuteTime": {
     "end_time": "2023-05-23T13:17:44.737745800Z",
     "start_time": "2023-05-23T13:17:44.731612400Z"
    }
   }
  },
  {
   "cell_type": "code",
   "execution_count": 32,
   "outputs": [],
   "source": [
    "def process_image(image_path):\n",
    "    # Read the image using OpenCV\n",
    "    image = cv.imread(Path(image_path))\n",
    "    print(image_path)\n",
    "\n",
    "    # Perform rubber gripper identification (implement your own logic here)\n",
    "    create_contour_img(image, 500, 4)\n",
    "    # Crop the image to remove unnecessary parts (implement your own logic here)\n",
    "\n",
    "    # Convert the image from OpenCV format to Tkinter-compatible format\n",
    "    processed_image = cv.cvtColor(image, cv.COLOR_BGR2RGB)\n",
    "    processed_image = Image.fromarray(processed_image)\n",
    "    processed_image = ImageTk.PhotoImage(processed_image)\n",
    "\n",
    "    return processed_image"
   ],
   "metadata": {
    "collapsed": false,
    "ExecuteTime": {
     "end_time": "2023-05-23T13:17:44.743293500Z",
     "start_time": "2023-05-23T13:17:44.739746800Z"
    }
   }
  },
  {
   "cell_type": "code",
   "execution_count": 33,
   "outputs": [],
   "source": [
    "def create_contour_img(image_path, min_area, min_vertices):\n",
    "    # Load the image\n",
    "    #print(image_path+'1')\n",
    "    image = cv.imread(Path(image_path))\n",
    "\n",
    "    # Convert the image to grayscale\n",
    "    gray_image = cv.cvtColor(image, cv.COLOR_BGR2GRAY)\n",
    "\n",
    "    # Apply preprocessing (optional)\n",
    "    blurred_image = cv.GaussianBlur(gray_image, (5, 5), 0)\n",
    "    _, threshold_image = cv.threshold(blurred_image, 100, 255, cv.THRESH_BINARY)\n",
    "\n",
    "    # Find contours\n",
    "    contours, _ = cv.findContours(threshold_image, cv.RETR_EXTERNAL, cv.CHAIN_APPROX_SIMPLE)\n",
    "\n",
    "    # Process and filter contours\n",
    "    for contour in contours:\n",
    "        area = cv.contourArea(contour)\n",
    "        perimeter = cv.arcLength(contour, True)\n",
    "        approx = cv.approxPolyDP(contour, 0.02 * perimeter, True)\n",
    "\n",
    "        # Filter based on area and number of vertices\n",
    "        if area > min_area and len(approx) == min_vertices:\n",
    "            cv.drawContours(image, [approx], -1, (0, 255, 0), 2)\n",
    "\n",
    "    # Display or save the processed image\n",
    "    cv.imshow(\"Processed Image\", image)\n",
    "    cv.waitKey(0)\n",
    "    cv.destroyAllWindows()"
   ],
   "metadata": {
    "collapsed": false,
    "ExecuteTime": {
     "end_time": "2023-05-23T13:17:44.752573700Z",
     "start_time": "2023-05-23T13:17:44.747837300Z"
    }
   }
  },
  {
   "cell_type": "markdown",
   "source": [
    "start the mainloop"
   ],
   "metadata": {
    "collapsed": false
   }
  },
  {
   "cell_type": "code",
   "execution_count": 34,
   "outputs": [
    {
     "name": "stdout",
     "output_type": "stream",
     "text": [
      "D:/Nextcloud/Promotion/Projekt_Gummifinger/Bilder/Fingerbending/IMG-20230419-WA0004.jpg\n"
     ]
    },
    {
     "name": "stderr",
     "output_type": "stream",
     "text": [
      "Exception in Tkinter callback\n",
      "Traceback (most recent call last):\n",
      "  File \"C:\\Users\\jensc\\AppData\\Local\\Programs\\Python\\Python311\\Lib\\tkinter\\__init__.py\", line 1948, in __call__\n",
      "    return self.func(*args)\n",
      "           ^^^^^^^^^^^^^^^^\n",
      "  File \"C:\\Users\\jensc\\AppData\\Local\\Temp\\ipykernel_20236\\2696798514.py\", line 7, in open_image\n",
      "    processed_image = process_image(Path(image_path))  # Convert the image_path object to a string\n",
      "                      ^^^^^^^^^^^^^^^^^^^^^^^^^^^^^^^\n",
      "  File \"C:\\Users\\jensc\\AppData\\Local\\Temp\\ipykernel_20236\\2764343517.py\", line 3, in process_image\n",
      "    image = cv.imread(Path(image_path))\n",
      "            ^^^^^^^^^^^^^^^^^^^^^^^^^^^\n",
      "TypeError: Can't convert object to 'str' for 'filename'\n"
     ]
    }
   ],
   "source": [
    "if __name__ == \"__main__\":\n",
    "    # Start the GUI event loop\n",
    "    root.mainloop()"
   ],
   "metadata": {
    "collapsed": false,
    "ExecuteTime": {
     "start_time": "2023-05-23T13:17:44.753583100Z"
    }
   }
  },
  {
   "cell_type": "markdown",
   "source": [],
   "metadata": {
    "collapsed": false
   }
  }
 ],
 "metadata": {
  "kernelspec": {
   "display_name": "Python 3",
   "language": "python",
   "name": "python3"
  },
  "language_info": {
   "codemirror_mode": {
    "name": "ipython",
    "version": 2
   },
   "file_extension": ".py",
   "mimetype": "text/x-python",
   "name": "python",
   "nbconvert_exporter": "python",
   "pygments_lexer": "ipython2",
   "version": "2.7.6"
  }
 },
 "nbformat": 4,
 "nbformat_minor": 0
}
